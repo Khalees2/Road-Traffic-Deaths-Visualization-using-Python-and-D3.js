{
 "cells": [
  {
   "cell_type": "markdown",
   "metadata": {},
   "source": [
    "# Visualisation of Road Traffic Deaths of Different Countries in 2013"
   ]
  },
  {
   "cell_type": "markdown",
   "metadata": {},
   "source": [
    "Phase 2: Cleaning of Geographical Dataset and combining it with the new Dataset obtained from Phase 1"
   ]
  },
  {
   "cell_type": "code",
   "execution_count": 4,
   "metadata": {},
   "outputs": [],
   "source": [
    "import pandas as pd\n",
    "import numpy as np "
   ]
  },
  {
   "cell_type": "code",
   "execution_count": 10,
   "metadata": {},
   "outputs": [],
   "source": [
    "#Reading the Geographical Data \n",
    "mapData = pd.read_csv(r\"C:\\Users\\Salman\\Desktop\\SEM1\\CA682-Data Management & Visualisation\\salman\\CA682-Assignment\\Datasets\\GeoData\\geo_v1.csv\",encoding=\"ISO-8859-1\")"
   ]
  },
  {
   "cell_type": "code",
   "execution_count": 12,
   "metadata": {},
   "outputs": [
    {
     "data": {
      "text/html": [
       "<div>\n",
       "<style scoped>\n",
       "    .dataframe tbody tr th:only-of-type {\n",
       "        vertical-align: middle;\n",
       "    }\n",
       "\n",
       "    .dataframe tbody tr th {\n",
       "        vertical-align: top;\n",
       "    }\n",
       "\n",
       "    .dataframe thead th {\n",
       "        text-align: right;\n",
       "    }\n",
       "</style>\n",
       "<table border=\"1\" class=\"dataframe\">\n",
       "  <thead>\n",
       "    <tr style=\"text-align: right;\">\n",
       "      <th></th>\n",
       "      <th>official_name_ar</th>\n",
       "      <th>official_name_cn</th>\n",
       "      <th>official_name_en</th>\n",
       "      <th>official_name_es</th>\n",
       "      <th>official_name_fr</th>\n",
       "      <th>official_name_ru</th>\n",
       "      <th>ISO3166-1-Alpha-2</th>\n",
       "      <th>ISO3166-1-Alpha-3</th>\n",
       "      <th>ISO3166-1-numeric</th>\n",
       "      <th>ISO4217-currency_alphabetic_code</th>\n",
       "      <th>...</th>\n",
       "      <th>Least Developed Countries (LDC)</th>\n",
       "      <th>MARC</th>\n",
       "      <th>Region Code</th>\n",
       "      <th>Region Name</th>\n",
       "      <th>Small Island Developing States (SIDS)</th>\n",
       "      <th>Sub-region Code</th>\n",
       "      <th>Sub-region Name</th>\n",
       "      <th>TLD</th>\n",
       "      <th>WMO</th>\n",
       "      <th>is_independent</th>\n",
       "    </tr>\n",
       "  </thead>\n",
       "  <tbody>\n",
       "    <tr>\n",
       "      <th>0</th>\n",
       "      <td>_______</td>\n",
       "      <td>___</td>\n",
       "      <td>Ireland</td>\n",
       "      <td>Irlanda</td>\n",
       "      <td>Irlande</td>\n",
       "      <td>________</td>\n",
       "      <td>IE</td>\n",
       "      <td>IRL</td>\n",
       "      <td>372.0</td>\n",
       "      <td>EUR</td>\n",
       "      <td>...</td>\n",
       "      <td>NaN</td>\n",
       "      <td>ie</td>\n",
       "      <td>150.0</td>\n",
       "      <td>Europe</td>\n",
       "      <td>NaN</td>\n",
       "      <td>154.0</td>\n",
       "      <td>Northern Europe</td>\n",
       "      <td>.ie</td>\n",
       "      <td>IE</td>\n",
       "      <td>Yes</td>\n",
       "    </tr>\n",
       "    <tr>\n",
       "      <th>1</th>\n",
       "      <td>_______</td>\n",
       "      <td>__</td>\n",
       "      <td>Iceland</td>\n",
       "      <td>Islandia</td>\n",
       "      <td>Islande</td>\n",
       "      <td>________</td>\n",
       "      <td>IS</td>\n",
       "      <td>ISL</td>\n",
       "      <td>352.0</td>\n",
       "      <td>ISK</td>\n",
       "      <td>...</td>\n",
       "      <td>NaN</td>\n",
       "      <td>ic</td>\n",
       "      <td>150.0</td>\n",
       "      <td>Europe</td>\n",
       "      <td>NaN</td>\n",
       "      <td>154.0</td>\n",
       "      <td>Northern Europe</td>\n",
       "      <td>.is</td>\n",
       "      <td>IL</td>\n",
       "      <td>Yes</td>\n",
       "    </tr>\n",
       "    <tr>\n",
       "      <th>2</th>\n",
       "      <td>________</td>\n",
       "      <td>____</td>\n",
       "      <td>Azerbaijan</td>\n",
       "      <td>Azerbaiyn</td>\n",
       "      <td>Azerbadjan</td>\n",
       "      <td>___________</td>\n",
       "      <td>AZ</td>\n",
       "      <td>AZE</td>\n",
       "      <td>31.0</td>\n",
       "      <td>AZN</td>\n",
       "      <td>...</td>\n",
       "      <td>NaN</td>\n",
       "      <td>aj</td>\n",
       "      <td>142.0</td>\n",
       "      <td>Asia</td>\n",
       "      <td>NaN</td>\n",
       "      <td>145.0</td>\n",
       "      <td>Western Asia</td>\n",
       "      <td>.az</td>\n",
       "      <td>AJ</td>\n",
       "      <td>Yes</td>\n",
       "    </tr>\n",
       "    <tr>\n",
       "      <th>3</th>\n",
       "      <td>_______</td>\n",
       "      <td>____</td>\n",
       "      <td>Armenia</td>\n",
       "      <td>Armenia</td>\n",
       "      <td>Armnie</td>\n",
       "      <td>_______</td>\n",
       "      <td>AM</td>\n",
       "      <td>ARM</td>\n",
       "      <td>51.0</td>\n",
       "      <td>AMD</td>\n",
       "      <td>...</td>\n",
       "      <td>NaN</td>\n",
       "      <td>ai</td>\n",
       "      <td>142.0</td>\n",
       "      <td>Asia</td>\n",
       "      <td>NaN</td>\n",
       "      <td>145.0</td>\n",
       "      <td>Western Asia</td>\n",
       "      <td>.am</td>\n",
       "      <td>AY</td>\n",
       "      <td>Yes</td>\n",
       "    </tr>\n",
       "    <tr>\n",
       "      <th>4</th>\n",
       "      <td>_____</td>\n",
       "      <td>___</td>\n",
       "      <td>Aruba</td>\n",
       "      <td>Aruba</td>\n",
       "      <td>Aruba</td>\n",
       "      <td>_____</td>\n",
       "      <td>AW</td>\n",
       "      <td>ABW</td>\n",
       "      <td>533.0</td>\n",
       "      <td>AWG</td>\n",
       "      <td>...</td>\n",
       "      <td>NaN</td>\n",
       "      <td>aw</td>\n",
       "      <td>19.0</td>\n",
       "      <td>Americas</td>\n",
       "      <td>x</td>\n",
       "      <td>419.0</td>\n",
       "      <td>Latin America and the Caribbean</td>\n",
       "      <td>.aw</td>\n",
       "      <td>NU</td>\n",
       "      <td>Part of NL</td>\n",
       "    </tr>\n",
       "  </tbody>\n",
       "</table>\n",
       "<p>5 rows × 56 columns</p>\n",
       "</div>"
      ],
      "text/plain": [
       "  official_name_ar official_name_cn official_name_en official_name_es  \\\n",
       "0          _______              ___          Ireland          Irlanda   \n",
       "1          _______               __          Iceland         Islandia   \n",
       "2         ________             ____       Azerbaijan       Azerbaiyn   \n",
       "3          _______             ____          Armenia          Armenia   \n",
       "4            _____              ___            Aruba            Aruba   \n",
       "\n",
       "  official_name_fr official_name_ru ISO3166-1-Alpha-2 ISO3166-1-Alpha-3  \\\n",
       "0          Irlande         ________                IE               IRL   \n",
       "1          Islande         ________                IS               ISL   \n",
       "2      Azerbadjan      ___________                AZ               AZE   \n",
       "3          Armnie          _______                AM               ARM   \n",
       "4            Aruba            _____                AW               ABW   \n",
       "\n",
       "   ISO3166-1-numeric ISO4217-currency_alphabetic_code      ...        \\\n",
       "0              372.0                              EUR      ...         \n",
       "1              352.0                              ISK      ...         \n",
       "2               31.0                              AZN      ...         \n",
       "3               51.0                              AMD      ...         \n",
       "4              533.0                              AWG      ...         \n",
       "\n",
       "  Least Developed Countries (LDC) MARC Region Code Region Name  \\\n",
       "0                             NaN   ie       150.0      Europe   \n",
       "1                             NaN   ic       150.0      Europe   \n",
       "2                             NaN   aj       142.0        Asia   \n",
       "3                             NaN   ai       142.0        Asia   \n",
       "4                             NaN   aw        19.0    Americas   \n",
       "\n",
       "   Small Island Developing States (SIDS) Sub-region Code  \\\n",
       "0                                    NaN           154.0   \n",
       "1                                    NaN           154.0   \n",
       "2                                    NaN           145.0   \n",
       "3                                    NaN           145.0   \n",
       "4                                      x           419.0   \n",
       "\n",
       "                   Sub-region Name  TLD WMO is_independent  \n",
       "0                  Northern Europe  .ie  IE            Yes  \n",
       "1                  Northern Europe  .is  IL            Yes  \n",
       "2                     Western Asia  .az  AJ            Yes  \n",
       "3                     Western Asia  .am  AY            Yes  \n",
       "4  Latin America and the Caribbean  .aw  NU     Part of NL  \n",
       "\n",
       "[5 rows x 56 columns]"
      ]
     },
     "execution_count": 12,
     "metadata": {},
     "output_type": "execute_result"
    }
   ],
   "source": [
    "#Column with blanks contain different languages that is why it showing blank. For example official_name_ar is in Arabic.\n",
    "mapData.head()"
   ]
  },
  {
   "cell_type": "code",
   "execution_count": 13,
   "metadata": {},
   "outputs": [
    {
     "data": {
      "text/plain": [
       "['official_name_ar',\n",
       " 'official_name_cn',\n",
       " 'official_name_en',\n",
       " 'official_name_es',\n",
       " 'official_name_fr',\n",
       " 'official_name_ru',\n",
       " 'ISO3166-1-Alpha-2',\n",
       " 'ISO3166-1-Alpha-3',\n",
       " 'ISO3166-1-numeric',\n",
       " 'ISO4217-currency_alphabetic_code',\n",
       " 'ISO4217-currency_country_name',\n",
       " 'ISO4217-currency_minor_unit',\n",
       " 'ISO4217-currency_name',\n",
       " 'ISO4217-currency_numeric_code',\n",
       " 'M49',\n",
       " 'UNTERM Arabic Formal',\n",
       " 'UNTERM Arabic Short',\n",
       " 'UNTERM Chinese Formal',\n",
       " 'UNTERM Chinese Short',\n",
       " 'UNTERM English Formal',\n",
       " 'UNTERM English Short',\n",
       " 'UNTERM French Formal',\n",
       " 'UNTERM French Short',\n",
       " 'UNTERM Russian Formal',\n",
       " 'UNTERM Russian Short',\n",
       " 'UNTERM Spanish Formal',\n",
       " 'UNTERM Spanish Short',\n",
       " 'CLDR display name',\n",
       " 'Capital',\n",
       " 'Continent',\n",
       " 'DS',\n",
       " 'Developed / Developing Countries',\n",
       " 'Dial',\n",
       " 'EDGAR',\n",
       " 'FIFA',\n",
       " 'FIPS',\n",
       " 'GAUL',\n",
       " 'Geoname ID',\n",
       " 'Global Code',\n",
       " 'Global Name',\n",
       " 'IOC',\n",
       " 'ITU',\n",
       " 'Intermediate Region Code',\n",
       " 'Intermediate Region Name',\n",
       " 'Land Locked Developing Countries (LLDC)',\n",
       " 'Languages',\n",
       " 'Least Developed Countries (LDC)',\n",
       " 'MARC',\n",
       " 'Region Code',\n",
       " 'Region Name',\n",
       " 'Small Island Developing States (SIDS)',\n",
       " 'Sub-region Code',\n",
       " 'Sub-region Name',\n",
       " 'TLD',\n",
       " 'WMO',\n",
       " 'is_independent']"
      ]
     },
     "execution_count": 13,
     "metadata": {},
     "output_type": "execute_result"
    }
   ],
   "source": [
    "list(mapData)"
   ]
  },
  {
   "cell_type": "markdown",
   "metadata": {},
   "source": [
    "The dataset has some issues: \n",
    "1. Few rows contain Arabic language.\n",
    "2. Few rows contains Chinese language.\n",
    "2. Few rows has Null values.\n",
    "\n",
    "The Visualization which I am going to create further using D3js wants CODE for each country which is a combination of Continent code followed by Countrycode. Example Ireland in Europe is represented as \"EUIRL\".\n",
    "\n",
    "I will be extracting only 3 columns from the current dataset, that is official country name in english (official_name_en), country code in alpha3 format (ISO3166-1-Alpha-3) and continent code on alpha2 format (Continent)."
   ]
  },
  {
   "cell_type": "code",
   "execution_count": 14,
   "metadata": {},
   "outputs": [],
   "source": [
    "mapDataV1 = mapData[['official_name_en' , 'ISO3166-1-Alpha-3', 'Continent']]"
   ]
  },
  {
   "cell_type": "code",
   "execution_count": 15,
   "metadata": {},
   "outputs": [
    {
     "data": {
      "text/html": [
       "<div>\n",
       "<style scoped>\n",
       "    .dataframe tbody tr th:only-of-type {\n",
       "        vertical-align: middle;\n",
       "    }\n",
       "\n",
       "    .dataframe tbody tr th {\n",
       "        vertical-align: top;\n",
       "    }\n",
       "\n",
       "    .dataframe thead th {\n",
       "        text-align: right;\n",
       "    }\n",
       "</style>\n",
       "<table border=\"1\" class=\"dataframe\">\n",
       "  <thead>\n",
       "    <tr style=\"text-align: right;\">\n",
       "      <th></th>\n",
       "      <th>official_name_en</th>\n",
       "      <th>ISO3166-1-Alpha-3</th>\n",
       "      <th>Continent</th>\n",
       "    </tr>\n",
       "  </thead>\n",
       "  <tbody>\n",
       "    <tr>\n",
       "      <th>0</th>\n",
       "      <td>Ireland</td>\n",
       "      <td>IRL</td>\n",
       "      <td>EU</td>\n",
       "    </tr>\n",
       "    <tr>\n",
       "      <th>1</th>\n",
       "      <td>Iceland</td>\n",
       "      <td>ISL</td>\n",
       "      <td>EU</td>\n",
       "    </tr>\n",
       "    <tr>\n",
       "      <th>2</th>\n",
       "      <td>Azerbaijan</td>\n",
       "      <td>AZE</td>\n",
       "      <td>AS</td>\n",
       "    </tr>\n",
       "    <tr>\n",
       "      <th>3</th>\n",
       "      <td>Armenia</td>\n",
       "      <td>ARM</td>\n",
       "      <td>AS</td>\n",
       "    </tr>\n",
       "    <tr>\n",
       "      <th>4</th>\n",
       "      <td>Aruba</td>\n",
       "      <td>ABW</td>\n",
       "      <td>NaN</td>\n",
       "    </tr>\n",
       "  </tbody>\n",
       "</table>\n",
       "</div>"
      ],
      "text/plain": [
       "  official_name_en ISO3166-1-Alpha-3 Continent\n",
       "0          Ireland               IRL        EU\n",
       "1          Iceland               ISL        EU\n",
       "2       Azerbaijan               AZE        AS\n",
       "3          Armenia               ARM        AS\n",
       "4            Aruba               ABW       NaN"
      ]
     },
     "execution_count": 15,
     "metadata": {},
     "output_type": "execute_result"
    }
   ],
   "source": [
    "mapDataV1.head()"
   ]
  },
  {
   "cell_type": "code",
   "execution_count": 16,
   "metadata": {},
   "outputs": [],
   "source": [
    "mapDataV1 = mapData[['official_name_en' , 'Continent', 'ISO3166-1-Alpha-3']]"
   ]
  },
  {
   "cell_type": "code",
   "execution_count": 17,
   "metadata": {},
   "outputs": [
    {
     "data": {
      "text/html": [
       "<div>\n",
       "<style scoped>\n",
       "    .dataframe tbody tr th:only-of-type {\n",
       "        vertical-align: middle;\n",
       "    }\n",
       "\n",
       "    .dataframe tbody tr th {\n",
       "        vertical-align: top;\n",
       "    }\n",
       "\n",
       "    .dataframe thead th {\n",
       "        text-align: right;\n",
       "    }\n",
       "</style>\n",
       "<table border=\"1\" class=\"dataframe\">\n",
       "  <thead>\n",
       "    <tr style=\"text-align: right;\">\n",
       "      <th></th>\n",
       "      <th>official_name_en</th>\n",
       "      <th>Continent</th>\n",
       "      <th>ISO3166-1-Alpha-3</th>\n",
       "    </tr>\n",
       "  </thead>\n",
       "  <tbody>\n",
       "    <tr>\n",
       "      <th>0</th>\n",
       "      <td>Ireland</td>\n",
       "      <td>EU</td>\n",
       "      <td>IRL</td>\n",
       "    </tr>\n",
       "    <tr>\n",
       "      <th>1</th>\n",
       "      <td>Iceland</td>\n",
       "      <td>EU</td>\n",
       "      <td>ISL</td>\n",
       "    </tr>\n",
       "    <tr>\n",
       "      <th>2</th>\n",
       "      <td>Azerbaijan</td>\n",
       "      <td>AS</td>\n",
       "      <td>AZE</td>\n",
       "    </tr>\n",
       "    <tr>\n",
       "      <th>3</th>\n",
       "      <td>Armenia</td>\n",
       "      <td>AS</td>\n",
       "      <td>ARM</td>\n",
       "    </tr>\n",
       "    <tr>\n",
       "      <th>4</th>\n",
       "      <td>Aruba</td>\n",
       "      <td>NaN</td>\n",
       "      <td>ABW</td>\n",
       "    </tr>\n",
       "  </tbody>\n",
       "</table>\n",
       "</div>"
      ],
      "text/plain": [
       "  official_name_en Continent ISO3166-1-Alpha-3\n",
       "0          Ireland        EU               IRL\n",
       "1          Iceland        EU               ISL\n",
       "2       Azerbaijan        AS               AZE\n",
       "3          Armenia        AS               ARM\n",
       "4            Aruba       NaN               ABW"
      ]
     },
     "execution_count": 17,
     "metadata": {},
     "output_type": "execute_result"
    }
   ],
   "source": [
    "mapDataV1.head()"
   ]
  },
  {
   "cell_type": "code",
   "execution_count": 16,
   "metadata": {},
   "outputs": [],
   "source": [
    "mapDataV1.to_csv(r\"C:\\Users\\Salman\\Desktop\\SEM1\\CA682-Data Management & Visualisation\\salman\\CA682-Assignment\\Datasets\\GeoData\\geo_v2.csv\",encoding=\"ISO-8859-1\")"
   ]
  },
  {
   "cell_type": "code",
   "execution_count": 18,
   "metadata": {},
   "outputs": [],
   "source": [
    "mapDataV1 = pd.read_csv(r\"C:\\Users\\Salman\\Desktop\\SEM1\\CA682-Data Management & Visualisation\\salman\\CA682-Assignment\\Datasets\\GeoData\\geo_v2.csv\",encoding=\"ISO-8859-1\")"
   ]
  },
  {
   "cell_type": "code",
   "execution_count": 19,
   "metadata": {},
   "outputs": [
    {
     "data": {
      "text/html": [
       "<div>\n",
       "<style scoped>\n",
       "    .dataframe tbody tr th:only-of-type {\n",
       "        vertical-align: middle;\n",
       "    }\n",
       "\n",
       "    .dataframe tbody tr th {\n",
       "        vertical-align: top;\n",
       "    }\n",
       "\n",
       "    .dataframe thead th {\n",
       "        text-align: right;\n",
       "    }\n",
       "</style>\n",
       "<table border=\"1\" class=\"dataframe\">\n",
       "  <thead>\n",
       "    <tr style=\"text-align: right;\">\n",
       "      <th></th>\n",
       "      <th>official_name_en</th>\n",
       "      <th>Continent</th>\n",
       "      <th>ISO3166-1-Alpha-3</th>\n",
       "    </tr>\n",
       "  </thead>\n",
       "  <tbody>\n",
       "    <tr>\n",
       "      <th>0</th>\n",
       "      <td>Ireland</td>\n",
       "      <td>EU</td>\n",
       "      <td>IRL</td>\n",
       "    </tr>\n",
       "    <tr>\n",
       "      <th>1</th>\n",
       "      <td>Iceland</td>\n",
       "      <td>EU</td>\n",
       "      <td>ISL</td>\n",
       "    </tr>\n",
       "    <tr>\n",
       "      <th>2</th>\n",
       "      <td>Azerbaijan</td>\n",
       "      <td>AS</td>\n",
       "      <td>AZE</td>\n",
       "    </tr>\n",
       "    <tr>\n",
       "      <th>3</th>\n",
       "      <td>Armenia</td>\n",
       "      <td>AS</td>\n",
       "      <td>ARM</td>\n",
       "    </tr>\n",
       "    <tr>\n",
       "      <th>4</th>\n",
       "      <td>Aruba</td>\n",
       "      <td>NaN</td>\n",
       "      <td>ABW</td>\n",
       "    </tr>\n",
       "  </tbody>\n",
       "</table>\n",
       "</div>"
      ],
      "text/plain": [
       "  official_name_en Continent ISO3166-1-Alpha-3\n",
       "0          Ireland        EU               IRL\n",
       "1          Iceland        EU               ISL\n",
       "2       Azerbaijan        AS               AZE\n",
       "3          Armenia        AS               ARM\n",
       "4            Aruba       NaN               ABW"
      ]
     },
     "execution_count": 19,
     "metadata": {},
     "output_type": "execute_result"
    }
   ],
   "source": [
    "mapDataV1.head()"
   ]
  },
  {
   "cell_type": "code",
   "execution_count": 20,
   "metadata": {},
   "outputs": [],
   "source": [
    "#dropping Null Values since we cannot place 0 for Country/Continent codes\n",
    "mapDataV1.dropna(how='any', inplace=True)"
   ]
  },
  {
   "cell_type": "code",
   "execution_count": 21,
   "metadata": {},
   "outputs": [],
   "source": [
    "mapDataV1['code']=mapDataV1['Continent'].astype(str)+mapDataV1['ISO3166-1-Alpha-3'].astype(str)"
   ]
  },
  {
   "cell_type": "code",
   "execution_count": 22,
   "metadata": {},
   "outputs": [
    {
     "data": {
      "text/html": [
       "<div>\n",
       "<style scoped>\n",
       "    .dataframe tbody tr th:only-of-type {\n",
       "        vertical-align: middle;\n",
       "    }\n",
       "\n",
       "    .dataframe tbody tr th {\n",
       "        vertical-align: top;\n",
       "    }\n",
       "\n",
       "    .dataframe thead th {\n",
       "        text-align: right;\n",
       "    }\n",
       "</style>\n",
       "<table border=\"1\" class=\"dataframe\">\n",
       "  <thead>\n",
       "    <tr style=\"text-align: right;\">\n",
       "      <th></th>\n",
       "      <th>official_name_en</th>\n",
       "      <th>Continent</th>\n",
       "      <th>ISO3166-1-Alpha-3</th>\n",
       "      <th>code</th>\n",
       "    </tr>\n",
       "  </thead>\n",
       "  <tbody>\n",
       "    <tr>\n",
       "      <th>0</th>\n",
       "      <td>Ireland</td>\n",
       "      <td>EU</td>\n",
       "      <td>IRL</td>\n",
       "      <td>EUIRL</td>\n",
       "    </tr>\n",
       "    <tr>\n",
       "      <th>1</th>\n",
       "      <td>Iceland</td>\n",
       "      <td>EU</td>\n",
       "      <td>ISL</td>\n",
       "      <td>EUISL</td>\n",
       "    </tr>\n",
       "    <tr>\n",
       "      <th>2</th>\n",
       "      <td>Azerbaijan</td>\n",
       "      <td>AS</td>\n",
       "      <td>AZE</td>\n",
       "      <td>ASAZE</td>\n",
       "    </tr>\n",
       "    <tr>\n",
       "      <th>3</th>\n",
       "      <td>Armenia</td>\n",
       "      <td>AS</td>\n",
       "      <td>ARM</td>\n",
       "      <td>ASARM</td>\n",
       "    </tr>\n",
       "    <tr>\n",
       "      <th>5</th>\n",
       "      <td>Australia</td>\n",
       "      <td>OC</td>\n",
       "      <td>AUS</td>\n",
       "      <td>OCAUS</td>\n",
       "    </tr>\n",
       "  </tbody>\n",
       "</table>\n",
       "</div>"
      ],
      "text/plain": [
       "  official_name_en Continent ISO3166-1-Alpha-3   code\n",
       "0          Ireland        EU               IRL  EUIRL\n",
       "1          Iceland        EU               ISL  EUISL\n",
       "2       Azerbaijan        AS               AZE  ASAZE\n",
       "3          Armenia        AS               ARM  ASARM\n",
       "5        Australia        OC               AUS  OCAUS"
      ]
     },
     "execution_count": 22,
     "metadata": {},
     "output_type": "execute_result"
    }
   ],
   "source": [
    "mapDataV1.head()"
   ]
  },
  {
   "cell_type": "code",
   "execution_count": 23,
   "metadata": {},
   "outputs": [
    {
     "data": {
      "text/html": [
       "<div>\n",
       "<style scoped>\n",
       "    .dataframe tbody tr th:only-of-type {\n",
       "        vertical-align: middle;\n",
       "    }\n",
       "\n",
       "    .dataframe tbody tr th {\n",
       "        vertical-align: top;\n",
       "    }\n",
       "\n",
       "    .dataframe thead th {\n",
       "        text-align: right;\n",
       "    }\n",
       "</style>\n",
       "<table border=\"1\" class=\"dataframe\">\n",
       "  <thead>\n",
       "    <tr style=\"text-align: right;\">\n",
       "      <th></th>\n",
       "      <th>official_name_en</th>\n",
       "      <th>code</th>\n",
       "    </tr>\n",
       "  </thead>\n",
       "  <tbody>\n",
       "    <tr>\n",
       "      <th>0</th>\n",
       "      <td>Ireland</td>\n",
       "      <td>EUIRL</td>\n",
       "    </tr>\n",
       "    <tr>\n",
       "      <th>1</th>\n",
       "      <td>Iceland</td>\n",
       "      <td>EUISL</td>\n",
       "    </tr>\n",
       "    <tr>\n",
       "      <th>2</th>\n",
       "      <td>Azerbaijan</td>\n",
       "      <td>ASAZE</td>\n",
       "    </tr>\n",
       "    <tr>\n",
       "      <th>3</th>\n",
       "      <td>Armenia</td>\n",
       "      <td>ASARM</td>\n",
       "    </tr>\n",
       "    <tr>\n",
       "      <th>5</th>\n",
       "      <td>Australia</td>\n",
       "      <td>OCAUS</td>\n",
       "    </tr>\n",
       "  </tbody>\n",
       "</table>\n",
       "</div>"
      ],
      "text/plain": [
       "  official_name_en   code\n",
       "0          Ireland  EUIRL\n",
       "1          Iceland  EUISL\n",
       "2       Azerbaijan  ASAZE\n",
       "3          Armenia  ASARM\n",
       "5        Australia  OCAUS"
      ]
     },
     "execution_count": 23,
     "metadata": {},
     "output_type": "execute_result"
    }
   ],
   "source": [
    "mapDataV1.drop(['Continent','ISO3166-1-Alpha-3'], axis = 1, inplace = True)\n",
    "mapDataV1.head()"
   ]
  },
  {
   "cell_type": "code",
   "execution_count": 24,
   "metadata": {},
   "outputs": [],
   "source": [
    "mapDataV1.rename(columns = {'official_name_en':'name'},inplace=True)"
   ]
  },
  {
   "cell_type": "code",
   "execution_count": 25,
   "metadata": {},
   "outputs": [
    {
     "data": {
      "text/html": [
       "<div>\n",
       "<style scoped>\n",
       "    .dataframe tbody tr th:only-of-type {\n",
       "        vertical-align: middle;\n",
       "    }\n",
       "\n",
       "    .dataframe tbody tr th {\n",
       "        vertical-align: top;\n",
       "    }\n",
       "\n",
       "    .dataframe thead th {\n",
       "        text-align: right;\n",
       "    }\n",
       "</style>\n",
       "<table border=\"1\" class=\"dataframe\">\n",
       "  <thead>\n",
       "    <tr style=\"text-align: right;\">\n",
       "      <th></th>\n",
       "      <th>name</th>\n",
       "      <th>code</th>\n",
       "    </tr>\n",
       "  </thead>\n",
       "  <tbody>\n",
       "    <tr>\n",
       "      <th>0</th>\n",
       "      <td>Ireland</td>\n",
       "      <td>EUIRL</td>\n",
       "    </tr>\n",
       "    <tr>\n",
       "      <th>1</th>\n",
       "      <td>Iceland</td>\n",
       "      <td>EUISL</td>\n",
       "    </tr>\n",
       "    <tr>\n",
       "      <th>2</th>\n",
       "      <td>Azerbaijan</td>\n",
       "      <td>ASAZE</td>\n",
       "    </tr>\n",
       "    <tr>\n",
       "      <th>3</th>\n",
       "      <td>Armenia</td>\n",
       "      <td>ASARM</td>\n",
       "    </tr>\n",
       "    <tr>\n",
       "      <th>5</th>\n",
       "      <td>Australia</td>\n",
       "      <td>OCAUS</td>\n",
       "    </tr>\n",
       "  </tbody>\n",
       "</table>\n",
       "</div>"
      ],
      "text/plain": [
       "         name   code\n",
       "0     Ireland  EUIRL\n",
       "1     Iceland  EUISL\n",
       "2  Azerbaijan  ASAZE\n",
       "3     Armenia  ASARM\n",
       "5   Australia  OCAUS"
      ]
     },
     "execution_count": 25,
     "metadata": {},
     "output_type": "execute_result"
    }
   ],
   "source": [
    "mapDataV1.head()"
   ]
  },
  {
   "cell_type": "code",
   "execution_count": 26,
   "metadata": {},
   "outputs": [],
   "source": [
    "mapDataV1.to_csv(r\"C:\\Users\\Salman\\Desktop\\SEM1\\CA682-Data Management & Visualisation\\salman\\CA682-Assignment\\Datasets\\GeoData\\geo_v3.csv\",encoding=\"ISO-8859-1\")"
   ]
  },
  {
   "cell_type": "code",
   "execution_count": 27,
   "metadata": {},
   "outputs": [
    {
     "data": {
      "text/html": [
       "<div>\n",
       "<style scoped>\n",
       "    .dataframe tbody tr th:only-of-type {\n",
       "        vertical-align: middle;\n",
       "    }\n",
       "\n",
       "    .dataframe tbody tr th {\n",
       "        vertical-align: top;\n",
       "    }\n",
       "\n",
       "    .dataframe thead th {\n",
       "        text-align: right;\n",
       "    }\n",
       "</style>\n",
       "<table border=\"1\" class=\"dataframe\">\n",
       "  <thead>\n",
       "    <tr style=\"text-align: right;\">\n",
       "      <th></th>\n",
       "      <th>name</th>\n",
       "      <th>code</th>\n",
       "    </tr>\n",
       "  </thead>\n",
       "  <tbody>\n",
       "    <tr>\n",
       "      <th>0</th>\n",
       "      <td>Ireland</td>\n",
       "      <td>EUIRL</td>\n",
       "    </tr>\n",
       "    <tr>\n",
       "      <th>1</th>\n",
       "      <td>Iceland</td>\n",
       "      <td>EUISL</td>\n",
       "    </tr>\n",
       "    <tr>\n",
       "      <th>2</th>\n",
       "      <td>Azerbaijan</td>\n",
       "      <td>ASAZE</td>\n",
       "    </tr>\n",
       "    <tr>\n",
       "      <th>3</th>\n",
       "      <td>Armenia</td>\n",
       "      <td>ASARM</td>\n",
       "    </tr>\n",
       "    <tr>\n",
       "      <th>5</th>\n",
       "      <td>Australia</td>\n",
       "      <td>OCAUS</td>\n",
       "    </tr>\n",
       "  </tbody>\n",
       "</table>\n",
       "</div>"
      ],
      "text/plain": [
       "         name   code\n",
       "0     Ireland  EUIRL\n",
       "1     Iceland  EUISL\n",
       "2  Azerbaijan  ASAZE\n",
       "3     Armenia  ASARM\n",
       "5   Australia  OCAUS"
      ]
     },
     "execution_count": 27,
     "metadata": {},
     "output_type": "execute_result"
    }
   ],
   "source": [
    "mapDataV1.head()"
   ]
  },
  {
   "cell_type": "code",
   "execution_count": 28,
   "metadata": {},
   "outputs": [],
   "source": [
    "#Reading the Dataset created in the Phase 1 of cleaning\n",
    "roadTrafficDeathData = pd.read_csv(r\"C:\\Users\\Salman\\Desktop\\SEM1\\CA682-Data Management & Visualisation\\salman\\CA682-Assignment\\Datasets\\converted\\mergedRoadTrafficDeathV1.csv\",encoding=\"ISO-8859-1\")"
   ]
  },
  {
   "cell_type": "code",
   "execution_count": 31,
   "metadata": {},
   "outputs": [
    {
     "name": "stdout",
     "output_type": "stream",
     "text": [
      "Antarctica\n",
      "French Southern Territories\n",
      "Western Sahara\n",
      "Holy See\n",
      "British Indian Ocean Territory\n",
      "French Polynesia\n",
      "Pitcairn\n",
      "Tuvalu\n",
      "Tokelau\n",
      "Gibraltar\n",
      "land Islands\n",
      "Svalbard and Jan Mayen Islands\n",
      "Faroe Islands\n",
      "Falkland Islands (Malvinas)\n",
      "Cocos (Keeling) Islands\n",
      "Northern Mariana Islands\n",
      "Wallis and Futuna Islands\n",
      "Bouvet Island\n",
      "Christmas Island\n",
      "Isle of Man\n",
      "Mayotte\n",
      "Norfolk Island\n",
      "Heard Island and McDonald Islands\n",
      "The former Yugoslav Republic of Macedonia\n",
      "South Georgia and the South Sandwich Islands\n",
      "Jersey\n",
      "State of Palestine\n",
      "Runion\n",
      "American Samoa\n",
      "Saint Helena\n",
      "Swaziland\n",
      "Guam\n",
      "French Guiana\n",
      "Guernsey\n",
      "New Caledonia\n",
      "Cte d'Ivoire\n",
      "Liechtenstein\n",
      "China, Macao Special Administrative Region\n",
      "China, Hong Kong Special Administrative Region\n",
      "United States Minor Outlying Islands\n",
      "Nauru\n",
      "Niue\n",
      "42\n"
     ]
    }
   ],
   "source": [
    "#to see if there is any differences in countries\n",
    "x=0\n",
    "\n",
    "for i in list(mapDataV1.name):\n",
    "    if (i not in list(roadTrafficDeathData.Country)):\n",
    "        x=x+1\n",
    "        print(i)\n",
    "print(x)"
   ]
  },
  {
   "cell_type": "code",
   "execution_count": 32,
   "metadata": {},
   "outputs": [],
   "source": [
    "mergedDataV1 = roadTrafficDeathData.merge(mapDataV1,left_on='Country',right_on='name',how='left')"
   ]
  },
  {
   "cell_type": "code",
   "execution_count": 33,
   "metadata": {},
   "outputs": [],
   "source": [
    "#Soume Countries doen't have codes so deleting all such countries\n",
    "mergedDataV1.dropna(how='any', inplace=True)"
   ]
  },
  {
   "cell_type": "code",
   "execution_count": 34,
   "metadata": {},
   "outputs": [
    {
     "data": {
      "text/plain": [
       "(165, 9)"
      ]
     },
     "execution_count": 34,
     "metadata": {},
     "output_type": "execute_result"
    }
   ],
   "source": [
    "mergedDataV1.shape"
   ]
  },
  {
   "cell_type": "code",
   "execution_count": 35,
   "metadata": {},
   "outputs": [],
   "source": [
    "mergedDataV1.drop(['name'], axis = 1, inplace = True)"
   ]
  },
  {
   "cell_type": "code",
   "execution_count": 36,
   "metadata": {},
   "outputs": [
    {
     "data": {
      "text/html": [
       "<div>\n",
       "<style scoped>\n",
       "    .dataframe tbody tr th:only-of-type {\n",
       "        vertical-align: middle;\n",
       "    }\n",
       "\n",
       "    .dataframe tbody tr th {\n",
       "        vertical-align: top;\n",
       "    }\n",
       "\n",
       "    .dataframe thead th {\n",
       "        text-align: right;\n",
       "    }\n",
       "</style>\n",
       "<table border=\"1\" class=\"dataframe\">\n",
       "  <thead>\n",
       "    <tr style=\"text-align: right;\">\n",
       "      <th></th>\n",
       "      <th>Country</th>\n",
       "      <th>Estimated road traffic death rate (per 100 000 population)</th>\n",
       "      <th>Four-Wheelers</th>\n",
       "      <th>Two-Wheelers</th>\n",
       "      <th>Cyclists</th>\n",
       "      <th>Pedestrians</th>\n",
       "      <th>Others</th>\n",
       "      <th>code</th>\n",
       "    </tr>\n",
       "  </thead>\n",
       "  <tbody>\n",
       "    <tr>\n",
       "      <th>0</th>\n",
       "      <td>Afghanistan</td>\n",
       "      <td>15.5</td>\n",
       "      <td>0.0</td>\n",
       "      <td>0.0</td>\n",
       "      <td>0.0</td>\n",
       "      <td>0.0</td>\n",
       "      <td>0.0</td>\n",
       "      <td>ASAFG</td>\n",
       "    </tr>\n",
       "    <tr>\n",
       "      <th>1</th>\n",
       "      <td>Albania</td>\n",
       "      <td>15.1</td>\n",
       "      <td>50.8</td>\n",
       "      <td>13.2</td>\n",
       "      <td>4.1</td>\n",
       "      <td>31.2</td>\n",
       "      <td>0.7</td>\n",
       "      <td>EUALB</td>\n",
       "    </tr>\n",
       "    <tr>\n",
       "      <th>2</th>\n",
       "      <td>Algeria</td>\n",
       "      <td>23.8</td>\n",
       "      <td>0.0</td>\n",
       "      <td>0.0</td>\n",
       "      <td>0.0</td>\n",
       "      <td>0.0</td>\n",
       "      <td>0.0</td>\n",
       "      <td>AFDZA</td>\n",
       "    </tr>\n",
       "    <tr>\n",
       "      <th>3</th>\n",
       "      <td>Andorra</td>\n",
       "      <td>7.6</td>\n",
       "      <td>0.0</td>\n",
       "      <td>50.0</td>\n",
       "      <td>0.0</td>\n",
       "      <td>50.0</td>\n",
       "      <td>0.0</td>\n",
       "      <td>EUAND</td>\n",
       "    </tr>\n",
       "    <tr>\n",
       "      <th>4</th>\n",
       "      <td>Angola</td>\n",
       "      <td>26.9</td>\n",
       "      <td>0.0</td>\n",
       "      <td>1.9</td>\n",
       "      <td>0.0</td>\n",
       "      <td>35.4</td>\n",
       "      <td>62.7</td>\n",
       "      <td>AFAGO</td>\n",
       "    </tr>\n",
       "  </tbody>\n",
       "</table>\n",
       "</div>"
      ],
      "text/plain": [
       "       Country  Estimated road traffic death rate (per 100 000 population)  \\\n",
       "0  Afghanistan                                               15.5            \n",
       "1      Albania                                               15.1            \n",
       "2      Algeria                                               23.8            \n",
       "3      Andorra                                                7.6            \n",
       "4       Angola                                               26.9            \n",
       "\n",
       "   Four-Wheelers  Two-Wheelers  Cyclists  Pedestrians  Others   code  \n",
       "0            0.0           0.0       0.0          0.0     0.0  ASAFG  \n",
       "1           50.8          13.2       4.1         31.2     0.7  EUALB  \n",
       "2            0.0           0.0       0.0          0.0     0.0  AFDZA  \n",
       "3            0.0          50.0       0.0         50.0     0.0  EUAND  \n",
       "4            0.0           1.9       0.0         35.4    62.7  AFAGO  "
      ]
     },
     "execution_count": 36,
     "metadata": {},
     "output_type": "execute_result"
    }
   ],
   "source": [
    "mergedDataV1.head()"
   ]
  },
  {
   "cell_type": "code",
   "execution_count": 37,
   "metadata": {},
   "outputs": [
    {
     "data": {
      "text/plain": [
       "['Country',\n",
       " 'Estimated road traffic death rate (per 100 000 population)',\n",
       " 'Four-Wheelers',\n",
       " 'Two-Wheelers',\n",
       " 'Cyclists',\n",
       " 'Pedestrians',\n",
       " 'Others',\n",
       " 'code']"
      ]
     },
     "execution_count": 37,
     "metadata": {},
     "output_type": "execute_result"
    }
   ],
   "source": [
    "mergedDataV1.columns.tolist()"
   ]
  },
  {
   "cell_type": "code",
   "execution_count": 38,
   "metadata": {},
   "outputs": [],
   "source": [
    "code = mergedDataV1['code'].str.lower()"
   ]
  },
  {
   "cell_type": "code",
   "execution_count": 39,
   "metadata": {},
   "outputs": [
    {
     "data": {
      "text/plain": [
       "pandas.core.series.Series"
      ]
     },
     "execution_count": 39,
     "metadata": {},
     "output_type": "execute_result"
    }
   ],
   "source": [
    "type(code)"
   ]
  },
  {
   "cell_type": "code",
   "execution_count": null,
   "metadata": {},
   "outputs": [],
   "source": [
    "finalData = mergedDataV1[['code','Country','Four-Wheelers','Two-Wheelers','Cyclists','Pedestrians','Others','Estimated road traffic death rate per 100 000 population']]"
   ]
  },
  {
   "cell_type": "code",
   "execution_count": 110,
   "metadata": {},
   "outputs": [
    {
     "data": {
      "text/html": [
       "<div>\n",
       "<style scoped>\n",
       "    .dataframe tbody tr th:only-of-type {\n",
       "        vertical-align: middle;\n",
       "    }\n",
       "\n",
       "    .dataframe tbody tr th {\n",
       "        vertical-align: top;\n",
       "    }\n",
       "\n",
       "    .dataframe thead th {\n",
       "        text-align: right;\n",
       "    }\n",
       "</style>\n",
       "<table border=\"1\" class=\"dataframe\">\n",
       "  <thead>\n",
       "    <tr style=\"text-align: right;\">\n",
       "      <th></th>\n",
       "      <th>code</th>\n",
       "      <th>Country</th>\n",
       "      <th>Four-Wheelers</th>\n",
       "      <th>Two-Wheelers</th>\n",
       "      <th>Cyclists</th>\n",
       "      <th>Pedestrians</th>\n",
       "      <th>Others</th>\n",
       "      <th>Estimated road traffic death rate per 100 000 population</th>\n",
       "    </tr>\n",
       "  </thead>\n",
       "  <tbody>\n",
       "    <tr>\n",
       "      <th>0</th>\n",
       "      <td>ASAFG</td>\n",
       "      <td>Afghanistan</td>\n",
       "      <td>0.0</td>\n",
       "      <td>0.0</td>\n",
       "      <td>0.0</td>\n",
       "      <td>0.0</td>\n",
       "      <td>0.0</td>\n",
       "      <td>15.5</td>\n",
       "    </tr>\n",
       "    <tr>\n",
       "      <th>1</th>\n",
       "      <td>EUALB</td>\n",
       "      <td>Albania</td>\n",
       "      <td>50.8</td>\n",
       "      <td>13.2</td>\n",
       "      <td>4.1</td>\n",
       "      <td>31.2</td>\n",
       "      <td>0.7</td>\n",
       "      <td>15.1</td>\n",
       "    </tr>\n",
       "    <tr>\n",
       "      <th>2</th>\n",
       "      <td>AFDZA</td>\n",
       "      <td>Algeria</td>\n",
       "      <td>0.0</td>\n",
       "      <td>0.0</td>\n",
       "      <td>0.0</td>\n",
       "      <td>0.0</td>\n",
       "      <td>0.0</td>\n",
       "      <td>23.8</td>\n",
       "    </tr>\n",
       "    <tr>\n",
       "      <th>3</th>\n",
       "      <td>EUAND</td>\n",
       "      <td>Andorra</td>\n",
       "      <td>0.0</td>\n",
       "      <td>50.0</td>\n",
       "      <td>0.0</td>\n",
       "      <td>50.0</td>\n",
       "      <td>0.0</td>\n",
       "      <td>7.6</td>\n",
       "    </tr>\n",
       "    <tr>\n",
       "      <th>4</th>\n",
       "      <td>AFAGO</td>\n",
       "      <td>Angola</td>\n",
       "      <td>0.0</td>\n",
       "      <td>1.9</td>\n",
       "      <td>0.0</td>\n",
       "      <td>35.4</td>\n",
       "      <td>62.7</td>\n",
       "      <td>26.9</td>\n",
       "    </tr>\n",
       "  </tbody>\n",
       "</table>\n",
       "</div>"
      ],
      "text/plain": [
       "    code      Country  Four-Wheelers  Two-Wheelers  Cyclists  Pedestrians  \\\n",
       "0  ASAFG  Afghanistan            0.0           0.0       0.0          0.0   \n",
       "1  EUALB      Albania           50.8          13.2       4.1         31.2   \n",
       "2  AFDZA      Algeria            0.0           0.0       0.0          0.0   \n",
       "3  EUAND      Andorra            0.0          50.0       0.0         50.0   \n",
       "4  AFAGO       Angola            0.0           1.9       0.0         35.4   \n",
       "\n",
       "   Others  Estimated road traffic death rate per 100 000 population  \n",
       "0     0.0                                               15.5         \n",
       "1     0.7                                               15.1         \n",
       "2     0.0                                               23.8         \n",
       "3     0.0                                                7.6         \n",
       "4    62.7                                               26.9         "
      ]
     },
     "execution_count": 110,
     "metadata": {},
     "output_type": "execute_result"
    }
   ],
   "source": [
    "finalData.head()"
   ]
  },
  {
   "cell_type": "code",
   "execution_count": 111,
   "metadata": {},
   "outputs": [],
   "source": [
    "finalData.to_csv(r\"C:\\Users\\Salman\\Desktop\\SEM1\\CA682-Data Management & Visualisation\\salman\\CA682-Assignment\\Datasets\\converted\\final_Data_V1.csv\",encoding=\"ISO-8859-1\")"
   ]
  },
  {
   "cell_type": "markdown",
   "metadata": {},
   "source": [
    "Now This is the end of Phase 2"
   ]
  },
  {
   "cell_type": "code",
   "execution_count": null,
   "metadata": {},
   "outputs": [],
   "source": []
  }
 ],
 "metadata": {
  "kernelspec": {
   "display_name": "Python 3",
   "language": "python",
   "name": "python3"
  },
  "language_info": {
   "codemirror_mode": {
    "name": "ipython",
    "version": 3
   },
   "file_extension": ".py",
   "mimetype": "text/x-python",
   "name": "python",
   "nbconvert_exporter": "python",
   "pygments_lexer": "ipython3",
   "version": "3.6.5"
  }
 },
 "nbformat": 4,
 "nbformat_minor": 2
}
